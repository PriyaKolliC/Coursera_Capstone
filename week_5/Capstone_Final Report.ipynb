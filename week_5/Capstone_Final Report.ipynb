{
 "cells": [
  {
   "cell_type": "markdown",
   "metadata": {},
   "source": [
    "<h1> Final Report - Capstone Project – The Battle of Neighborhoods. </h1>"
   ]
  },
  {
   "cell_type": "markdown",
   "metadata": {},
   "source": [
    "<h3>1. Introduction</h3><br>\n",
    "The objective of this Project is to help people in exploring the neighborhood facilities. The project analyzes each neighborhood in the boroughs of Toronto for determining the salient features of each neighborhood. \n",
    "Many people migrate in the country due to reasons like new jobs, better health care, education etc. An individual often prefers to know what features are available in the selected community. Leveraging the data provided by FourSquare API this project aims at displaying most common venues in each borough along with the analysis of what is every neighborhood famous for, in each borough. \n",
    "Only knowing what a borough is famous for is not enough. In the bigger picture we can see what a borough's most important features are. However, the question is are these features of borough evenly available at each neighborhood in the borough? The answer is no. Hence it is also necessary to analyze the neighborhoods of each borough so that if an individual chooses to migrate to a borough we can recommend what neighborhood is better fit for him/her for better living."
   ]
  },
  {
   "cell_type": "markdown",
   "metadata": {},
   "source": [
    "<h3>2. Data Section </h3>\n",
    "\n",
    "<b>Data Source: </b><br>\n",
    "https://en.wikipedia.org/wiki/List_of_postal_codes_of_Canada:_M\n",
    "\n",
    "The above data source consists of information related to postal codes, corresponding boroughs and neighborhoods of Toronto. We scrape the data to extract this information in structured format and use it for our analysis. \n",
    "\n",
    "<b>Foursquare API Data:</b><br>\n",
    "We will need data about different venues in different neighborhoods of that specific borough. In order to gain that information we leverage \"Foursquare\" API to extract location information. Foursquare is a location data provider with information about venues and events within an area of interest. Information includes venue names, locations, menus and even photos.The information obtained per neighborhood is as follows:\n",
    "Venue, Name of the venue, Venue Latitude, Venue Longitude, Venue Category etc"
   ]
  },
  {
   "cell_type": "markdown",
   "metadata": {},
   "source": [
    "<h3>3. Methodology Section </h3>\n",
    "\n",
    "<b> Exploratory Data Analysis</b><br>\n",
    "We scrape the data from the wikipedia page to obtain it in the structured format for the analysis. We clean the data by filtering out boroughs that are not assigned. Also, we modify the data by assigning empty neighborhoods to their corresponding boroughs. We can then visualize the data to determine what unique boroughs are there in Toronto. \n",
    "Also, we can visualize the neighborhoods in each borough of the Toronoto. \n",
    "We can then use folium maps to plot the location markers on the map of Toronto and visualize each borough region.\n",
    "\n",
    "<b> Clustering Approach </b><br>\n",
    "We obtain the top venues for each neighborhood based on their frequency. Once we obtain this data, we can group these neighborhoods based on the characteristics of venues. We can now notice that unsupervised learning is required to perform the grouping preferred as we do not have any preclassified data of neighborhoods based on any characteristics. Hence, I choose to use k-means clustering approach to group these neighborhoods and find best fit for an individual based on his/her needs. "
   ]
  },
  {
   "cell_type": "markdown",
   "metadata": {},
   "source": [
    "<h3>4. Results Section</h3>\n",
    "\n",
    "<h4>Scarborough borough neighborhood analysis insights</h4>\n",
    "\n",
    "<img src=\"sacrborough_cluster_map.png\" width=400></img> ![](sacrborough_cluster_map.png)\n",
    "Cluster labels - [0,1,2,3,4]\n",
    "\n",
    "1. Cluster 0 - 4 neighborhoods with most important venues being [Coffee shop, Chinese restaurant, Intersection]\n",
    "2. Cluster 1 - 9 neighborhoods with most important venues being [Coffee shop, Indian restaurant, Breakfast spot, Park, Ice cream shop, Wings Joint] \n",
    "3. Cluster 2 - 1 neighborhood with most important venue being [Intersection]\n",
    "4. Cluster 3 - 1 neighborhood with most important venue being [Burger Joint]\n",
    "5. Cluster 4 - 1 neighborhood with most important venue being [Park]\n",
    "\n",
    "<h4> North York borough neighborhood analysis insights</h4>\n",
    "<img src=\"northyork_cluster_map.png\" width=400></img>\n",
    "Cluster labels - [0,1,2,3,4]\n",
    "\n",
    "1. Cluster 0 - 9 neighborhoods with most important venues being [Japanese restaurant, Coffee shop, Grocery Store]\n",
    "2. Cluster 1 - 1 neighborhoods with most important venues being [Coffee shop]\n",
    "3. Cluster 2 - 1 neighborhood with most important venue being [Park, Bank, Chinese restaurant, Home Service]\n",
    "4. Cluster 3 - 1 neighborhood with most important venue being [Burger Joint]\n",
    "5. Cluster 4 - 1 neighborhood with most important venue being [Clothing Store]"
   ]
  },
  {
   "cell_type": "markdown",
   "metadata": {},
   "source": [
    "<h3>5. Discussion Section</h3>\n",
    "The main objective of the project is to recommend a better neighborhood based on the criteria like food sector units available, banking services, parks, grocery stores etc. Also, the intersection sector discovered as one of the important venue insights in this project helps in knowing the road connectivity and availability of the commute options. For example, if I would like to move to a location with banks and food providers in the northyork borough, I will move to the neighborhood in cluster 2. "
   ]
  },
  {
   "cell_type": "markdown",
   "metadata": {},
   "source": [
    "<h3>6. Conclusion Section </h3>\n",
    "\n",
    "In this project, using k-means cluster algorithm I separated the borugh's neighborhoods into 5 different clusters. \n",
    "We can observe from the results that if a student wants to rent a place with many of the most facilities being available the neighborhoods like \"Malvern, Rouge\", \"Rouge Hill, Port Union, Highland Creek\", \"Woburn\" belonging to \"cluster 1\" in Scarborough will be the best choice. Similarly if retired senior citizens would want to rent a place with not much noise around the place then neighborhood \"Guildwood, Morningside, West Hill\" from \"cluster 4\" in Scarborough neighborhood would be the best choice. \n",
    "\n",
    "<b>Future Works:</b><br>\n",
    "This project can be continued for making it more effective by considering may other factors available through premium calls to FourSquare API. This project can be used to build a recommender system with the selection criteria being the facilities required in the area of interest. "
   ]
  },
  {
   "cell_type": "code",
   "execution_count": null,
   "metadata": {},
   "outputs": [],
   "source": []
  }
 ],
 "metadata": {
  "kernelspec": {
   "display_name": "Python 3",
   "language": "python",
   "name": "python3"
  },
  "language_info": {
   "codemirror_mode": {
    "name": "ipython",
    "version": 3
   },
   "file_extension": ".py",
   "mimetype": "text/x-python",
   "name": "python",
   "nbconvert_exporter": "python",
   "pygments_lexer": "ipython3",
   "version": "3.7.0"
  }
 },
 "nbformat": 4,
 "nbformat_minor": 2
}
