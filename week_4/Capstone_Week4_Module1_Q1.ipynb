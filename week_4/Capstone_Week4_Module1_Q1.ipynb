{
 "cells": [
  {
   "cell_type": "markdown",
   "metadata": {},
   "source": [
    "<h1>The Battle of Neighborhoods | Problem Description</h1>"
   ]
  },
  {
   "cell_type": "markdown",
   "metadata": {},
   "source": [
    "<h3>Introduction:</h3>\n",
    "\n",
    "In the earlier discussions and assignments we have seen clustering of the neighborhoods based on the venues around them. We can improvise the objective to get better insights that can help in many user applications.  The main objective of this Project is to exploring better facilities around the neighborhood. This will help in examining what neighborhood is salient for what kind of activity. \n",
    "\n",
    "To be more precise extracting salient features of each neighborhood can really help in the location analysis. As an international student I would definitely love to have some location analysis that can help me learn which neighborhood better suits for my stay during the academic year. For ease of accessing to Cafe, School, Super market, medical shops, grocery shops, mall, theatre, hospital, etc.\n",
    "\n",
    "The salient features include housing prices, better schools, crime rates in that particular area, road connectivity, airport connectivity, subway for daily commute, weather conditions, emergency care centers, and recreational facilities.\n",
    "\n",
    "It will help people to get idea of the area and neighborhood before moving to a new location.\n",
    "\n"
   ]
  },
  {
   "cell_type": "code",
   "execution_count": null,
   "metadata": {},
   "outputs": [],
   "source": []
  }
 ],
 "metadata": {
  "kernelspec": {
   "display_name": "Python 3",
   "language": "python",
   "name": "python3"
  },
  "language_info": {
   "codemirror_mode": {
    "name": "ipython",
    "version": 3
   },
   "file_extension": ".py",
   "mimetype": "text/x-python",
   "name": "python",
   "nbconvert_exporter": "python",
   "pygments_lexer": "ipython3",
   "version": "3.7.0"
  }
 },
 "nbformat": 4,
 "nbformat_minor": 2
}
