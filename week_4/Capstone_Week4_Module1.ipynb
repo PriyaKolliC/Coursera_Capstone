{
 "cells": [
  {
   "cell_type": "markdown",
   "metadata": {},
   "source": [
    "<h1>The Battle of Neighborhoods | Problem Description</h1>"
   ]
  },
  {
   "cell_type": "markdown",
   "metadata": {},
   "source": [
    "<h3>Introduction:</h3>\n",
    "\n",
    "In the earlier discussions and assignments we have seen clustering of the neighborhoods based on the venues around them. We can improvise the objective to get better insights that can help in many user applications.  The main objective of this Project is to exploring better facilities around the neighborhood. This will help in examining what neighborhood is salient for what kind of activity. \n",
    "\n",
    "To be more precise extracting salient features of each neighborhood can really help in the location analysis. As an international student I would definitely love to have some location analysis that can help me learn which neighborhood better suits for my stay during the academic year. For ease of accessing to Cafe, School, Super market, medical shops, grocery shops, mall, theatre, hospital, etc.\n",
    "\n",
    "The salient features include housing prices, better schools, crime rates in that particular area, road connectivity, airport connectivity, subway for daily commute, weather conditions, emergency care centers, and recreational facilities.\n",
    "\n",
    "It will help people to get idea of the area and neighborhood before moving to a new location.\n",
    "\n",
    "<h3>Data Description and how it will be used </h3>\n",
    "\n",
    "<h4>Data source:</h4>\n",
    "https://en.wikipedia.org/wiki/List_of_postal_codes_of_Canada:_M\n",
    "The above page has a data table which has locations in the city of Toronto, in the province of Ontario. \n",
    "\n",
    "\n",
    "<h4>Foursquare API:</h4>\n",
    "This project would use Four-square API as its prime data source. Four-square API is an amazing data source which has databases of millions of places, their surrounding venues along with the user ratings, and many details about the businesses. Using credentials of Foursquare API features of near-by places of the neighborhoods would be mined. Due to http request limitations the number of places per neighborhood parameter would reasonably be set to 100 and the radius parameter would be set to 500.\n",
    "\n",
    "<h4>Clustering Approach:</h4>\n",
    "To compare the similarities of two cities, we decided to explore neighborhoods, segment them, and group them into clusters to find similar neighborhoods in a big city like New York and Toronto. To be able to do that, we need to cluster data which is a form of unsupervised machine learning: k-means clustering algorithm\n",
    "\n",
    "<h4>Libraries used:</h4>\n",
    "\n",
    "Pandas: For creating and manipulating dataframes.<br>\n",
    "Folium: Python visualization library would be used to visualize the neighborhoods cluster distribution of using interactive leaflet map.<br>\n",
    "Scikit Learn: For importing k-means clustering.<br>\n",
    "JSON: Library to handle JSON files.<br>\n",
    "XML: To separate data from presentation and XML stores data in plain text format.<br>\n",
    "Geocoder: To retrieve Location Data.<br>\n",
    "Beautiful Soup and Requests: To scrap and library to handle http requests.<br>\n",
    "Matplotlib: Python Plotting Module.<br>"
   ]
  },
  {
   "cell_type": "code",
   "execution_count": null,
   "metadata": {},
   "outputs": [],
   "source": []
  }
 ],
 "metadata": {
  "kernelspec": {
   "display_name": "Python 3",
   "language": "python",
   "name": "python3"
  },
  "language_info": {
   "codemirror_mode": {
    "name": "ipython",
    "version": 3
   },
   "file_extension": ".py",
   "mimetype": "text/x-python",
   "name": "python",
   "nbconvert_exporter": "python",
   "pygments_lexer": "ipython3",
   "version": "3.7.0"
  }
 },
 "nbformat": 4,
 "nbformat_minor": 2
}
